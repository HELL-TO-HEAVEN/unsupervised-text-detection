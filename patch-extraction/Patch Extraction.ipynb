{
 "cells": [
  {
   "cell_type": "markdown",
   "metadata": {},
   "source": [
    "# Introduction\n",
    "\n",
    "This code extracts 8 by 8 patches from the msra-td500 dataset"
   ]
  },
  {
   "cell_type": "code",
   "execution_count": 12,
   "metadata": {
    "collapsed": true
   },
   "outputs": [],
   "source": [
    "import numpy as np\n",
    "import pandas as pd\n",
    "import cv2\n",
    "import glob\n",
    "import os\n",
    "%matplotlib inline\n",
    "import math\n",
    "from matplotlib import pyplot as plt\n",
    "from uuid import uuid4"
   ]
  },
  {
   "cell_type": "code",
   "execution_count": 13,
   "metadata": {
    "collapsed": true
   },
   "outputs": [],
   "source": [
    "DATASET_PATH = '/home/moritz/MLProject/data/msra-td500'\n",
    "PATCH_PATH = '/home/moritz/MLProject/data/patches'\n",
    "NUM_PATCHES_PER_TEXT = 1"
   ]
  },
  {
   "cell_type": "code",
   "execution_count": 14,
   "metadata": {
    "collapsed": true
   },
   "outputs": [],
   "source": [
    "def load_metadata():\n",
    "    image_files = glob.glob(os.path.join(DATASET_PATH, '*.JPG'))\n",
    "    dfs =[]\n",
    "    for f in image_files:\n",
    "        filename = os.path.splitext(os.path.split(f)[1])[0]\n",
    "        try:\n",
    "            tmp_df = pd.read_csv(f[:-3] + 'gt', delimiter=' ', header=None, names=['patch_number', 'difficult', 'x', 'y', 'w', 'h', 'angle'])\n",
    "        except:\n",
    "            print('{} contains no text'.format(filename))\n",
    "            continue\n",
    "        tmp_df['filename'] = filename\n",
    "        dfs.append(tmp_df)\n",
    "    return pd.concat(dfs).reset_index()\n",
    "df = load_metadata()\n"
   ]
  },
  {
   "cell_type": "code",
   "execution_count": 16,
   "metadata": {
    "collapsed": false
   },
   "outputs": [
    {
     "name": "stderr",
     "output_type": "stream",
     "text": [
      "/usr/lib/python3.5/site-packages/ipykernel/__main__.py:17: VisibleDeprecationWarning: using a non-integer number instead of an integer will result in an error in the future\n"
     ]
    }
   ],
   "source": [
    "\n",
    "def extract_patch(row):\n",
    "    '''\n",
    "    Return a horizontal random 8 by 8 patch\n",
    "    '''\n",
    "    # load image\n",
    "    img = cv2.imread(os.path.join(DATASET_PATH, row.filename + '.JPG'))\n",
    "    rows, cols, dim = img.shape\n",
    "    \n",
    "    # rotate image to get horizontal \n",
    "    y = row['y'] + (row['h'] / 2.0)\n",
    "    x = row['x'] + (row['w'] / 2.0)\n",
    "    M = cv2.getRotationMatrix2D((x, y), row.angle * 180.0 / math.pi, 1)\n",
    "    rotated_img = cv2.warpAffine(img,M,(cols,rows))\n",
    "    \n",
    "    # cut text\n",
    "    text_img = rotated_img[row.y:row.y+row.h, row.x:row.x+row.w]\n",
    "    \n",
    "    # extract random patches\n",
    "    for _ in range(NUM_PATCHES_PER_TEXT):\n",
    "        try:\n",
    "            x, y = np.random.randint(0, row.w-8), np.random.randint(0, row.h-8)\n",
    "        except ValueError:\n",
    "            continue\n",
    "        patch = text_img[y:y+8, x:x+8]\n",
    "        \n",
    "        # save to file\n",
    "        cv2.imwrite('{}/{}.png'.format(PATCH_PATH, uuid4()), patch)\n",
    "    \n",
    "\n",
    "x=df.apply(extract_patch, axis=1)"
   ]
  }
 ],
 "metadata": {
  "kernelspec": {
   "display_name": "Python 3",
   "language": "python",
   "name": "python3"
  },
  "language_info": {
   "codemirror_mode": {
    "name": "ipython",
    "version": 3
   },
   "file_extension": ".py",
   "mimetype": "text/x-python",
   "name": "python",
   "nbconvert_exporter": "python",
   "pygments_lexer": "ipython3",
   "version": "3.5.2"
  }
 },
 "nbformat": 4,
 "nbformat_minor": 1
}
