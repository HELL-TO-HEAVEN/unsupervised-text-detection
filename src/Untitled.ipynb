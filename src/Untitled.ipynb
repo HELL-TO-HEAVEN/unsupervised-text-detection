{
 "cells": [
  {
   "cell_type": "code",
   "execution_count": 18,
   "metadata": {
    "collapsed": false
   },
   "outputs": [
    {
     "name": "stdout",
     "output_type": "stream",
     "text": [
      "started text recognition training.\n"
     ]
    }
   ],
   "source": [
    "from sklearn import svm\n",
    "from sklearn.utils import shuffle\n",
    "from sklearn.model_selection import train_test_split\n",
    "from sklearn.model_selection import GridSearchCV\n",
    "import extraction\n",
    "import time\n",
    "import pickle\n",
    "import glob\n",
    "import os\n",
    "import numpy as np\n",
    "\n",
    "print('started text recognition training.')\n",
    "\n",
    "text_windows = glob.glob(os.path.join('../data/windows/true/', '*.npy'))\n",
    "ntext_windows = glob.glob(os.path.join('../data/windows/false/', '*.npy'))\n",
    "\n",
    "X = []\n",
    "\n",
    "X = extraction.add_feature_data(text_windows, X)\n",
    "X = extraction.add_feature_data(ntext_windows, X)\n",
    "\n",
    "n_text = len(text_windows)\n",
    "n_ntext = len(ntext_windows)\n",
    "\n",
    "y = [0] * (n_text + n_ntext)\n",
    "\n",
    "y[0:n_text] = [1]*n_text\n",
    "\n",
    "X_shuffled, y_shuffled = shuffle(np.array(X), np.array(y))\n",
    "X_train, X_test, y_train, y_test = train_test_split(X_shuffled, y_shuffled, test_size=0.20, random_state=7)\n",
    "\n",
    "svm2 = svm.LinearSVC(dual = False)\n",
    "start = time.time()\n",
    "#svm2.fit(X_train, y_train)\n",
    "end = time.time()\n",
    "#print(\"Single SVC, training time: {t}s, score: {s}\".format(t = end - start, s = svm2.score(X_test,y_test)))"
   ]
  },
  {
   "cell_type": "code",
   "execution_count": 19,
   "metadata": {
    "collapsed": false
   },
   "outputs": [],
   "source": [
    "param_grid=[{'C': [2**x for x in range(-5, 5)], 'penalty': ['l1', 'l2']}]"
   ]
  },
  {
   "cell_type": "code",
   "execution_count": 20,
   "metadata": {
    "collapsed": false
   },
   "outputs": [
    {
     "data": {
      "text/plain": [
       "'\\ngrid = GridSearchCV(estimator=svm2, param_grid=param_grid, n_jobs=4)\\ngrid.fit(X_train, y_train)\\nprint(grid)\\n# summarize the results of the grid search\\nprint(grid.best_score_)\\nprint(grid.best_estimator_.C)\\nprint(grid.best_estimator_.penalty)\\nprint(grid.best_estimator_.loss)\\n'"
      ]
     },
     "execution_count": 20,
     "metadata": {},
     "output_type": "execute_result"
    }
   ],
   "source": [
    "\"\"\"\n",
    "grid = GridSearchCV(estimator=svm2, param_grid=param_grid, n_jobs=4)\n",
    "grid.fit(X_train, y_train)\n",
    "print(grid)\n",
    "# summarize the results of the grid search\n",
    "print(grid.best_score_)\n",
    "print(grid.best_estimator_.C)\n",
    "print(grid.best_estimator_.penalty)\n",
    "print(grid.best_estimator_.loss)\n",
    "\"\"\""
   ]
  },
  {
   "cell_type": "code",
   "execution_count": null,
   "metadata": {
    "collapsed": false
   },
   "outputs": [],
   "source": [
    "import cv2\n",
    "import feature_extraction\n",
    "import numpy as np\n",
    "import config\n",
    "import cProfile\n",
    "\n",
    "D = np.load(config.DICT_PATH)\n",
    "\n",
    "path = '../data/windows/true/0a1bfc40-c6a1-4de4-b89e-a4f8764e5983.JPG'\n",
    "\n",
    "img = cv2.imread(path)\n",
    "img.shape\n",
    "\n",
    "test = feature_extraction.get_features_for_window(D, path)\n",
    "print(test)"
   ]
  },
  {
   "cell_type": "code",
   "execution_count": null,
   "metadata": {
    "collapsed": true
   },
   "outputs": [],
   "source": [
    "cProfile.run('feature_extraction.get_features_for_window(D, path)', sort = 'cumtime')\n"
   ]
  }
 ],
 "metadata": {
  "kernelspec": {
   "display_name": "Python 3",
   "language": "python",
   "name": "python3"
  },
  "language_info": {
   "codemirror_mode": {
    "name": "ipython",
    "version": 3
   },
   "file_extension": ".py",
   "mimetype": "text/x-python",
   "name": "python",
   "nbconvert_exporter": "python",
   "pygments_lexer": "ipython3",
   "version": "3.4.5"
  }
 },
 "nbformat": 4,
 "nbformat_minor": 1
}
