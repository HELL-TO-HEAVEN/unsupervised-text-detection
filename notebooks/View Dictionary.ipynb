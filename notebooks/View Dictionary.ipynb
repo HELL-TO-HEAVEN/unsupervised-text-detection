{
 "cells": [
  {
   "cell_type": "markdown",
   "metadata": {},
   "source": [
    "# Patch preview\n",
    "\n",
    "This notebook just plots some randomly chosen patches"
   ]
  },
  {
   "cell_type": "code",
   "execution_count": 1,
   "metadata": {
    "collapsed": false
   },
   "outputs": [],
   "source": [
    "import cv2\n",
    "import glob\n",
    "import numpy as np\n",
    "import math\n",
    "from matplotlib import pyplot as plt\n",
    "%matplotlib inline\n",
    "\n",
    "DICT_PATH = '../data/dict.npy'\n",
    "NUM_SHOW_ENTRIES = 20\n"
   ]
  },
  {
   "cell_type": "code",
   "execution_count": 2,
   "metadata": {
    "collapsed": false
   },
   "outputs": [
    {
     "name": "stderr",
     "output_type": "stream",
     "text": [
      "/Users/sebastianhansmann/anaconda3/envs/tub/lib/python3.4/site-packages/matplotlib/colors.py:943: UserWarning: Warning: converting a masked element to nan.\n",
      "  vmin = float(vmin)\n",
      "/Users/sebastianhansmann/anaconda3/envs/tub/lib/python3.4/site-packages/matplotlib/colors.py:944: UserWarning: Warning: converting a masked element to nan.\n",
      "  vmax = float(vmax)\n"
     ]
    },
    {
     "data": {
      "image/png": "[encoded data removed]",
      "text/plain": [
       "<matplotlib.figure.Figure at 0x103922fd0>"
      ]
     },
     "metadata": {},
     "output_type": "display_data"
    }
   ],
   "source": [
    "D = np.load(DICT_PATH)\n",
    "\n",
    "fig, axes = plt.subplots(ncols=10, nrows=math.ceil(NUM_SHOW_ENTRIES/10), figsize=(10,NUM_SHOW_ENTRIES/10))\n",
    "plt.axis('off')\n",
    "for i, entry in enumerate(D[:, :NUM_SHOW_ENTRIES].T):\n",
    "    ax=axes[i//10, i%10]\n",
    "    ax.imshow(entry.reshape(8,8), cmap = plt.get_cmap('gray')) # , vmin = 0, vmax = 255\n",
    "    ax.get_xaxis().set_visible(False)\n",
    "    ax.get_yaxis().set_visible(False)\n",
    "    ax.set_axis_off()\n",
    "    \n",
    "for i in range(NUM_SHOW_ENTRIES, 10*math.ceil(NUM_SHOW_ENTRIES/10)):\n",
    "    ax=axes[i//10, i%10]\n",
    "    \n",
    "    ax.get_xaxis().set_visible(False)\n",
    "    ax.get_yaxis().set_visible(False)\n",
    "    ax.set_axis_off()"
   ]
  },
  {
   "cell_type": "code",
   "execution_count": null,
   "metadata": {
    "collapsed": true
   },
   "outputs": [],
   "source": []
  }
 ],
 "metadata": {
  "kernelspec": {
   "display_name": "Python 3",
   "language": "python",
   "name": "python3"
  },
  "language_info": {
   "codemirror_mode": {
    "name": "ipython",
    "version": 3
   },
   "file_extension": ".py",
   "mimetype": "text/x-python",
   "name": "python",
   "nbconvert_exporter": "python",
   "pygments_lexer": "ipython3",
   "version": "3.4.5"
  }
 },
 "nbformat": 4,
 "nbformat_minor": 1
}
